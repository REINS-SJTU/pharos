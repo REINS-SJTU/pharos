{
 "cells": [
  {
   "metadata": {
    "ExecuteTime": {
     "end_time": "2024-12-12T06:07:21.086202Z",
     "start_time": "2024-12-12T06:01:31.662633Z"
    }
   },
   "cell_type": "code",
   "source": [
    "import numpy as np\n",
    "\n",
    "from benches.parallel import main\n",
    "\n",
    "result = main('results/environ/all/mappo/check/run1/models/actor.pt')"
   ],
   "id": "2b8026a66f6f3800",
   "outputs": [],
   "execution_count": 7
  },
  {
   "metadata": {
    "ExecuteTime": {
     "end_time": "2024-12-12T06:11:10.252737Z",
     "start_time": "2024-12-12T06:11:10.231100Z"
    }
   },
   "cell_type": "code",
   "source": [
    "crashes = np.mean(result[:, :, 0], axis=2)\n",
    "steps = np.median(result[:, :, 1], axis=2)\n",
    "dones = np.mean(result[:, :, 2], axis=2)"
   ],
   "id": "752d0c92f62a3056",
   "outputs": [],
   "execution_count": 12
  },
  {
   "metadata": {
    "ExecuteTime": {
     "end_time": "2024-12-12T06:11:13.003375Z",
     "start_time": "2024-12-12T06:11:12.990913Z"
    }
   },
   "cell_type": "code",
   "source": "crashes",
   "id": "becc0ca960c11424",
   "outputs": [
    {
     "data": {
      "text/plain": [
       "array([[0.  , 0.17, 0.17, 0.19, 0.19, 0.16, 0.14],\n",
       "       [0.18, 0.51, 0.61, 0.39, 0.28, 0.33, 0.36],\n",
       "       [0.2 , 0.65, 0.53, 0.53, 0.49, 0.46, 0.5 ],\n",
       "       [0.56, 0.8 , 0.82, 0.79, 0.91, 0.65, 0.77],\n",
       "       [0.89, 0.83, 1.27, 1.04, 0.77, 0.99, 1.14],\n",
       "       [0.94, 1.21, 1.47, 1.41, 1.49, 1.39, 1.16],\n",
       "       [1.48, 1.62, 1.68, 1.63, 1.61, 1.56, 1.66]])"
      ]
     },
     "execution_count": 13,
     "metadata": {},
     "output_type": "execute_result"
    }
   ],
   "execution_count": 13
  },
  {
   "metadata": {
    "ExecuteTime": {
     "end_time": "2024-12-12T06:11:17.090287Z",
     "start_time": "2024-12-12T06:11:17.082050Z"
    }
   },
   "cell_type": "code",
   "source": "steps",
   "id": "5a5220511886088e",
   "outputs": [
    {
     "data": {
      "text/plain": [
       "array([[ 16. ,  16. ,  17. ,  23. ,  33. ,  60.5,  76.5],\n",
       "       [ 41.5,  39. ,  41.5,  62. ,  69.5, 103.5, 110.5],\n",
       "       [ 65.5,  63.5,  89. , 112. , 115. , 141. , 152. ],\n",
       "       [ 88. ,  93. , 123.5, 137. , 161. , 193. , 218. ],\n",
       "       [121.5, 133. , 145. , 164. , 213.5, 207. , 225. ],\n",
       "       [156.5, 167. , 195.5, 220.5, 234.5, 248.5, 270.5],\n",
       "       [200.5, 196. , 214.5, 247.5, 261.5, 272.5, 268. ]])"
      ]
     },
     "execution_count": 14,
     "metadata": {},
     "output_type": "execute_result"
    }
   ],
   "execution_count": 14
  },
  {
   "metadata": {
    "ExecuteTime": {
     "end_time": "2024-12-12T06:11:21.937761Z",
     "start_time": "2024-12-12T06:11:21.927336Z"
    }
   },
   "cell_type": "code",
   "source": "dones",
   "id": "ea638812f92576a",
   "outputs": [
    {
     "data": {
      "text/plain": [
       "array([[1.  , 1.  , 1.  , 1.  , 1.  , 1.  , 1.  ],\n",
       "       [1.  , 1.  , 1.  , 1.  , 1.  , 1.  , 1.  ],\n",
       "       [1.  , 1.  , 1.  , 0.99, 0.99, 1.  , 1.  ],\n",
       "       [1.  , 1.  , 1.  , 1.  , 0.98, 1.  , 1.  ],\n",
       "       [0.99, 1.  , 1.  , 1.  , 0.99, 1.  , 0.96],\n",
       "       [0.99, 1.  , 1.  , 0.99, 0.99, 0.99, 0.98],\n",
       "       [0.99, 1.  , 1.  , 0.98, 0.99, 0.98, 0.97]])"
      ]
     },
     "execution_count": 15,
     "metadata": {},
     "output_type": "execute_result"
    }
   ],
   "execution_count": 15
  },
  {
   "metadata": {},
   "cell_type": "code",
   "outputs": [],
   "execution_count": null,
   "source": "",
   "id": "502e3b5fd23660d0"
  }
 ],
 "metadata": {
  "kernelspec": {
   "display_name": "Python 3",
   "language": "python",
   "name": "python3"
  },
  "language_info": {
   "codemirror_mode": {
    "name": "ipython",
    "version": 2
   },
   "file_extension": ".py",
   "mimetype": "text/x-python",
   "name": "python",
   "nbconvert_exporter": "python",
   "pygments_lexer": "ipython2",
   "version": "2.7.6"
  }
 },
 "nbformat": 4,
 "nbformat_minor": 5
}
