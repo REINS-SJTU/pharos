{
 "cells": [
  {
   "metadata": {},
   "cell_type": "code",
   "source": [
    "import json\n",
    "\n",
    "import numpy as np\n",
    "import pandas as pd\n",
    "\n",
    "from benches.parallel import main\n",
    "\n",
    "result = main('results/environ/all/mappo/check/run1/models/actor.pt')"
   ],
   "id": "2b8026a66f6f3800",
   "outputs": [],
   "execution_count": null
  },
  {
   "metadata": {},
   "cell_type": "code",
   "source": [
    "index = [f'v{i}' for i in range(1, 8)]\n",
    "columns = [f'h{i}' for i in range(7)]\n",
    "\n",
    "crashes = np.mean(result[:, :, :, 0], axis=2)\n",
    "steps = np.median(result[:, :, :, 1], axis=2)\n",
    "dones = np.mean(result[:, :, :, 2], axis=2)"
   ],
   "id": "752d0c92f62a3056",
   "outputs": [],
   "execution_count": null
  },
  {
   "metadata": {},
   "cell_type": "code",
   "source": "pd.DataFrame(crashes, columns=columns, index=index)",
   "id": "becc0ca960c11424",
   "outputs": [],
   "execution_count": null
  },
  {
   "metadata": {},
   "cell_type": "code",
   "source": "pd.DataFrame(steps, columns=columns, index=index)",
   "id": "5a5220511886088e",
   "outputs": [],
   "execution_count": null
  },
  {
   "metadata": {},
   "cell_type": "code",
   "source": "pd.DataFrame(dones, columns=columns, index=index)",
   "id": "ea638812f92576a",
   "outputs": [],
   "execution_count": null
  },
  {
   "metadata": {},
   "cell_type": "code",
   "source": [
    "with open('results/environ/all/mappo/check/run1/logs/summary.json') as file:\n",
    "    logs = json.load(file)\n",
    "(\n",
    "    value_loss,\n",
    "    policy_loss,\n",
    "    dist_entropy,\n",
    "    actor_grad_norm,\n",
    "    critic_grad_norm,\n",
    "    ratio,\n",
    "    average_episode_rewards\n",
    ") = (np.array(val)[:, 1:3] for val in logs.values())"
   ],
   "id": "502e3b5fd23660d0",
   "outputs": [],
   "execution_count": null
  },
  {
   "metadata": {},
   "cell_type": "code",
   "source": "pd.DataFrame(average_episode_rewards).set_index(0)",
   "id": "fc21da1111d387f8",
   "outputs": [],
   "execution_count": null
  },
  {
   "metadata": {},
   "cell_type": "code",
   "source": "",
   "id": "d9d8b4e3475f8df2",
   "outputs": [],
   "execution_count": null
  }
 ],
 "metadata": {
  "kernelspec": {
   "display_name": "Python 3",
   "language": "python",
   "name": "python3"
  },
  "language_info": {
   "codemirror_mode": {
    "name": "ipython",
    "version": 2
   },
   "file_extension": ".py",
   "mimetype": "text/x-python",
   "name": "python",
   "nbconvert_exporter": "python",
   "pygments_lexer": "ipython2",
   "version": "2.7.6"
  }
 },
 "nbformat": 4,
 "nbformat_minor": 5
}
